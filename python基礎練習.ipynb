{
 "cells": [
  {
   "cell_type": "code",
   "execution_count": 3,
   "metadata": {},
   "outputs": [
    {
     "name": "stdout",
     "output_type": "stream",
     "text": [
      "Hello world!!\n"
     ]
    }
   ],
   "source": [
    "#Hello Worldを出力する\n",
    "print(\"Hello world!!\")"
   ]
  },
  {
   "cell_type": "code",
   "execution_count": 2,
   "metadata": {},
   "outputs": [
    {
     "name": "stdout",
     "output_type": "stream",
     "text": [
      "num1= 100\n",
      "num2= 200\n",
      "num3= 300\n",
      "num4= 400\n"
     ]
    }
   ],
   "source": [
    "num1=100\n",
    "num2=200\n",
    "num3,num4=300,400\n",
    "\n",
    "print(\"num1=\",num1)\n",
    "print(\"num2=\",num2)\n",
    "print(\"num3=\",num3)\n",
    "print(\"num4=\",num4)"
   ]
  },
  {
   "cell_type": "code",
   "execution_count": 5,
   "metadata": {},
   "outputs": [
    {
     "data": {
      "text/plain": [
       "'\\nprint(\"コメントテスト1\")\\n\\n'"
      ]
     },
     "execution_count": 5,
     "metadata": {},
     "output_type": "execute_result"
    }
   ],
   "source": [
    "'''\n",
    "print(\"コメントテスト1\")\n",
    "\n",
    "'''"
   ]
  },
  {
   "cell_type": "code",
   "execution_count": 6,
   "metadata": {},
   "outputs": [
    {
     "name": "stdout",
     "output_type": "stream",
     "text": [
      "num= 100\n",
      "pi= 3.14\n",
      "str_= samurai\n"
     ]
    }
   ],
   "source": [
    "num=100\n",
    "pi=3.14\n",
    "str_ = \"samurai\"\n",
    "\n",
    "print(\"num=\",num)\n",
    "print(\"pi=\",pi)\n",
    "print(\"str_=\",str_)"
   ]
  },
  {
   "cell_type": "code",
   "execution_count": 16,
   "metadata": {},
   "outputs": [
    {
     "name": "stdout",
     "output_type": "stream",
     "text": [
      "200\n",
      "50\n",
      "1000\n",
      "10\n",
      "10.0\n",
      "10\n"
     ]
    }
   ],
   "source": [
    "num = 100\n",
    "\n",
    "#足し算\n",
    "print(num+100)\n",
    "\n",
    "#引き算\n",
    "print(num-50)\n",
    "\n",
    "#掛け算\n",
    "print(num*10)\n",
    "\n",
    "#割り算切り捨て\n",
    "print(num//10)\n",
    "\n",
    "#割り算小数点以下も出す\n",
    "print(num/10)\n",
    "\n",
    "#余剰\n",
    "print(num % 30)"
   ]
  },
  {
   "cell_type": "code",
   "execution_count": 20,
   "metadata": {},
   "outputs": [
    {
     "name": "stdout",
     "output_type": "stream",
     "text": [
      "あなたの年齢は20歳以上ですね！\n"
     ]
    }
   ],
   "source": [
    "age=24\n",
    "\n",
    "if age >= 20:\n",
    "    print(\"あなたの年齢は20歳以上ですね！\")\n",
    "    \n",
    "elif age < 20:\n",
    "    print(\"あなたの年齢は19歳以下ですね！\")"
   ]
  },
  {
   "cell_type": "code",
   "execution_count": 23,
   "metadata": {},
   "outputs": [
    {
     "name": "stdout",
     "output_type": "stream",
     "text": [
      "6\n",
      "YES\n"
     ]
    }
   ],
   "source": [
    "#innput(\"文字列を…\")のようにすれば文字列の出力もできる \n",
    "N=int(input())\n",
    "#'3' in str(N) で文字列Nの中に3が含まれているものを探す\n",
    "if N % 3 == 0 or '3' in str(N): \n",
    "    print(\"YES\")\n",
    "    \n",
    "else:\n",
    "    print(\"NO\")"
   ]
  },
  {
   "cell_type": "code",
   "execution_count": null,
   "metadata": {},
   "outputs": [],
   "source": []
  }
 ],
 "metadata": {
  "kernelspec": {
   "display_name": "Python 3",
   "language": "python",
   "name": "python3"
  },
  "language_info": {
   "codemirror_mode": {
    "name": "ipython",
    "version": 3
   },
   "file_extension": ".py",
   "mimetype": "text/x-python",
   "name": "python",
   "nbconvert_exporter": "python",
   "pygments_lexer": "ipython3",
   "version": "3.7.1"
  }
 },
 "nbformat": 4,
 "nbformat_minor": 2
}
